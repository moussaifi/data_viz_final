{
 "cells": [
  {
   "cell_type": "code",
   "execution_count": 2,
   "metadata": {},
   "outputs": [
    {
     "data": {
      "text/html": [
       "<div>\n",
       "<style scoped>\n",
       "    .dataframe tbody tr th:only-of-type {\n",
       "        vertical-align: middle;\n",
       "    }\n",
       "\n",
       "    .dataframe tbody tr th {\n",
       "        vertical-align: top;\n",
       "    }\n",
       "\n",
       "    .dataframe thead th {\n",
       "        text-align: right;\n",
       "    }\n",
       "</style>\n",
       "<table border=\"1\" class=\"dataframe\">\n",
       "  <thead>\n",
       "    <tr style=\"text-align: right;\">\n",
       "      <th></th>\n",
       "      <th>MSN</th>\n",
       "      <th>YYYYMM</th>\n",
       "      <th>Value</th>\n",
       "      <th>Column_Order</th>\n",
       "      <th>Description</th>\n",
       "      <th>Unit</th>\n",
       "    </tr>\n",
       "  </thead>\n",
       "  <tbody>\n",
       "    <tr>\n",
       "      <th>0</th>\n",
       "      <td>ELEGPUS</td>\n",
       "      <td>194913</td>\n",
       "      <td>291.1</td>\n",
       "      <td>1</td>\n",
       "      <td>Electricity Net Generation, Electric Power Sector</td>\n",
       "      <td>Billion Kilowatthours</td>\n",
       "    </tr>\n",
       "    <tr>\n",
       "      <th>1</th>\n",
       "      <td>ELEGPUS</td>\n",
       "      <td>195013</td>\n",
       "      <td>329.141</td>\n",
       "      <td>1</td>\n",
       "      <td>Electricity Net Generation, Electric Power Sector</td>\n",
       "      <td>Billion Kilowatthours</td>\n",
       "    </tr>\n",
       "    <tr>\n",
       "      <th>2</th>\n",
       "      <td>ELEGPUS</td>\n",
       "      <td>195113</td>\n",
       "      <td>370.673</td>\n",
       "      <td>1</td>\n",
       "      <td>Electricity Net Generation, Electric Power Sector</td>\n",
       "      <td>Billion Kilowatthours</td>\n",
       "    </tr>\n",
       "    <tr>\n",
       "      <th>3</th>\n",
       "      <td>ELEGPUS</td>\n",
       "      <td>195213</td>\n",
       "      <td>399.224</td>\n",
       "      <td>1</td>\n",
       "      <td>Electricity Net Generation, Electric Power Sector</td>\n",
       "      <td>Billion Kilowatthours</td>\n",
       "    </tr>\n",
       "    <tr>\n",
       "      <th>4</th>\n",
       "      <td>ELEGPUS</td>\n",
       "      <td>195313</td>\n",
       "      <td>442.665</td>\n",
       "      <td>1</td>\n",
       "      <td>Electricity Net Generation, Electric Power Sector</td>\n",
       "      <td>Billion Kilowatthours</td>\n",
       "    </tr>\n",
       "  </tbody>\n",
       "</table>\n",
       "</div>"
      ],
      "text/plain": [
       "       MSN  YYYYMM    Value  Column_Order  \\\n",
       "0  ELEGPUS  194913    291.1             1   \n",
       "1  ELEGPUS  195013  329.141             1   \n",
       "2  ELEGPUS  195113  370.673             1   \n",
       "3  ELEGPUS  195213  399.224             1   \n",
       "4  ELEGPUS  195313  442.665             1   \n",
       "\n",
       "                                         Description                   Unit  \n",
       "0  Electricity Net Generation, Electric Power Sector  Billion Kilowatthours  \n",
       "1  Electricity Net Generation, Electric Power Sector  Billion Kilowatthours  \n",
       "2  Electricity Net Generation, Electric Power Sector  Billion Kilowatthours  \n",
       "3  Electricity Net Generation, Electric Power Sector  Billion Kilowatthours  \n",
       "4  Electricity Net Generation, Electric Power Sector  Billion Kilowatthours  "
      ]
     },
     "execution_count": 2,
     "metadata": {},
     "output_type": "execute_result"
    }
   ],
   "source": [
    "import pandas as pd\n",
    "import numpy as np\n",
    "\n",
    "df = pd.read_csv(\"MER_T07_01.csv\")\n",
    "df.head()"
   ]
  },
  {
   "cell_type": "code",
   "execution_count": 6,
   "metadata": {},
   "outputs": [
    {
     "data": {
      "text/plain": [
       "array(['Electric Power Sector', 'Commercial Sector', 'Industrial Sector',\n",
       "       'Total', 'Electricity Imports', 'Electricity Exports',\n",
       "       'Electricity Net Imports',\n",
       "       'Transmission and Distribution Losses and Unaccounted for',\n",
       "       'Electricity Retail Sales, Total', 'Electricity Direct Use',\n",
       "       'Electricity End Use, Total'], dtype=object)"
      ]
     },
     "execution_count": 6,
     "metadata": {},
     "output_type": "execute_result"
    }
   ],
   "source": [
    "df.Description.unique()"
   ]
  },
  {
   "cell_type": "code",
   "execution_count": 5,
   "metadata": {},
   "outputs": [],
   "source": [
    "df.Description = df.Description.apply(lambda x: x.replace('Electricity Net Generation, ',''))"
   ]
  },
  {
   "cell_type": "code",
   "execution_count": 7,
   "metadata": {},
   "outputs": [],
   "source": [
    "df = df[(df.Description=='Electric Power Sector')|\n",
    "        (df.Description=='Commercial Sector')|\n",
    "        (df.Description=='Industrial Sector')]"
   ]
  },
  {
   "cell_type": "code",
   "execution_count": 12,
   "metadata": {},
   "outputs": [
    {
     "data": {
      "text/html": [
       "<div>\n",
       "<style scoped>\n",
       "    .dataframe tbody tr th:only-of-type {\n",
       "        vertical-align: middle;\n",
       "    }\n",
       "\n",
       "    .dataframe tbody tr th {\n",
       "        vertical-align: top;\n",
       "    }\n",
       "\n",
       "    .dataframe thead th {\n",
       "        text-align: right;\n",
       "    }\n",
       "</style>\n",
       "<table border=\"1\" class=\"dataframe\">\n",
       "  <thead>\n",
       "    <tr style=\"text-align: right;\">\n",
       "      <th></th>\n",
       "      <th>year</th>\n",
       "      <th>Electricity Net Generation</th>\n",
       "      <th>Sector</th>\n",
       "    </tr>\n",
       "  </thead>\n",
       "  <tbody>\n",
       "    <tr>\n",
       "      <th>0</th>\n",
       "      <td>194913</td>\n",
       "      <td>291.1</td>\n",
       "      <td>Electric Power Sector</td>\n",
       "    </tr>\n",
       "    <tr>\n",
       "      <th>1</th>\n",
       "      <td>195013</td>\n",
       "      <td>329.141</td>\n",
       "      <td>Electric Power Sector</td>\n",
       "    </tr>\n",
       "    <tr>\n",
       "      <th>2</th>\n",
       "      <td>195113</td>\n",
       "      <td>370.673</td>\n",
       "      <td>Electric Power Sector</td>\n",
       "    </tr>\n",
       "    <tr>\n",
       "      <th>3</th>\n",
       "      <td>195213</td>\n",
       "      <td>399.224</td>\n",
       "      <td>Electric Power Sector</td>\n",
       "    </tr>\n",
       "    <tr>\n",
       "      <th>4</th>\n",
       "      <td>195313</td>\n",
       "      <td>442.665</td>\n",
       "      <td>Electric Power Sector</td>\n",
       "    </tr>\n",
       "  </tbody>\n",
       "</table>\n",
       "</div>"
      ],
      "text/plain": [
       "     year Electricity Net Generation                 Sector\n",
       "0  194913                      291.1  Electric Power Sector\n",
       "1  195013                    329.141  Electric Power Sector\n",
       "2  195113                    370.673  Electric Power Sector\n",
       "3  195213                    399.224  Electric Power Sector\n",
       "4  195313                    442.665  Electric Power Sector"
      ]
     },
     "execution_count": 12,
     "metadata": {},
     "output_type": "execute_result"
    }
   ],
   "source": [
    "df.head()"
   ]
  },
  {
   "cell_type": "code",
   "execution_count": 9,
   "metadata": {},
   "outputs": [],
   "source": [
    "df = df[['YYYYMM','Value','Description']]"
   ]
  },
  {
   "cell_type": "code",
   "execution_count": 11,
   "metadata": {},
   "outputs": [],
   "source": [
    "df.columns = ['year','Electricity Net Generation','Sector']"
   ]
  },
  {
   "cell_type": "code",
   "execution_count": 23,
   "metadata": {},
   "outputs": [
    {
     "data": {
      "text/plain": [
       "year                           int64\n",
       "Electricity Net Generation    object\n",
       "Sector                        object\n",
       "dtype: object"
      ]
     },
     "execution_count": 23,
     "metadata": {},
     "output_type": "execute_result"
    }
   ],
   "source": [
    "df.dtypes"
   ]
  },
  {
   "cell_type": "code",
   "execution_count": 26,
   "metadata": {},
   "outputs": [
    {
     "name": "stderr",
     "output_type": "stream",
     "text": [
      "/Users/marwaoussaifi/anaconda3/envs/ml/lib/python3.6/site-packages/ipykernel_launcher.py:1: SettingWithCopyWarning: \n",
      "A value is trying to be set on a copy of a slice from a DataFrame\n",
      "\n",
      "See the caveats in the documentation: http://pandas.pydata.org/pandas-docs/stable/indexing.html#indexing-view-versus-copy\n",
      "  \"\"\"Entry point for launching an IPython kernel.\n"
     ]
    }
   ],
   "source": [
    "df['Electricity Net Generation'][df['Electricity Net Generation']=='Not Available']=None"
   ]
  },
  {
   "cell_type": "code",
   "execution_count": 27,
   "metadata": {},
   "outputs": [],
   "source": [
    "df['Electricity Net Generation'] = df['Electricity Net Generation'].astype('float', errors='ignore')"
   ]
  },
  {
   "cell_type": "code",
   "execution_count": null,
   "metadata": {},
   "outputs": [],
   "source": []
  },
  {
   "cell_type": "code",
   "execution_count": 28,
   "metadata": {},
   "outputs": [
    {
     "data": {
      "text/plain": [
       "year                            int64\n",
       "Electricity Net Generation    float64\n",
       "Sector                         object\n",
       "dtype: object"
      ]
     },
     "execution_count": 28,
     "metadata": {},
     "output_type": "execute_result"
    }
   ],
   "source": [
    "df.dtypes"
   ]
  },
  {
   "cell_type": "code",
   "execution_count": 17,
   "metadata": {},
   "outputs": [],
   "source": [
    "df.year = df.year.apply(lambda x: int(str(x)[:-2]))\n",
    "df = df[df.year>=1973]"
   ]
  },
  {
   "cell_type": "code",
   "execution_count": 18,
   "metadata": {},
   "outputs": [
    {
     "data": {
      "text/html": [
       "<div>\n",
       "<style scoped>\n",
       "    .dataframe tbody tr th:only-of-type {\n",
       "        vertical-align: middle;\n",
       "    }\n",
       "\n",
       "    .dataframe tbody tr th {\n",
       "        vertical-align: top;\n",
       "    }\n",
       "\n",
       "    .dataframe thead th {\n",
       "        text-align: right;\n",
       "    }\n",
       "</style>\n",
       "<table border=\"1\" class=\"dataframe\">\n",
       "  <thead>\n",
       "    <tr style=\"text-align: right;\">\n",
       "      <th></th>\n",
       "      <th>year</th>\n",
       "      <th>Electricity Net Generation</th>\n",
       "      <th>Sector</th>\n",
       "    </tr>\n",
       "  </thead>\n",
       "  <tbody>\n",
       "    <tr>\n",
       "      <th>24</th>\n",
       "      <td>1973</td>\n",
       "      <td>159.913</td>\n",
       "      <td>Electric Power Sector</td>\n",
       "    </tr>\n",
       "    <tr>\n",
       "      <th>25</th>\n",
       "      <td>1973</td>\n",
       "      <td>143.257</td>\n",
       "      <td>Electric Power Sector</td>\n",
       "    </tr>\n",
       "    <tr>\n",
       "      <th>26</th>\n",
       "      <td>1973</td>\n",
       "      <td>147.847</td>\n",
       "      <td>Electric Power Sector</td>\n",
       "    </tr>\n",
       "    <tr>\n",
       "      <th>27</th>\n",
       "      <td>1973</td>\n",
       "      <td>139.292</td>\n",
       "      <td>Electric Power Sector</td>\n",
       "    </tr>\n",
       "    <tr>\n",
       "      <th>28</th>\n",
       "      <td>1973</td>\n",
       "      <td>147.088</td>\n",
       "      <td>Electric Power Sector</td>\n",
       "    </tr>\n",
       "  </tbody>\n",
       "</table>\n",
       "</div>"
      ],
      "text/plain": [
       "    year Electricity Net Generation                 Sector\n",
       "24  1973                    159.913  Electric Power Sector\n",
       "25  1973                    143.257  Electric Power Sector\n",
       "26  1973                    147.847  Electric Power Sector\n",
       "27  1973                    139.292  Electric Power Sector\n",
       "28  1973                    147.088  Electric Power Sector"
      ]
     },
     "execution_count": 18,
     "metadata": {},
     "output_type": "execute_result"
    }
   ],
   "source": [
    "df.head()"
   ]
  },
  {
   "cell_type": "code",
   "execution_count": 30,
   "metadata": {},
   "outputs": [
    {
     "data": {
      "text/plain": [
       "0.202"
      ]
     },
     "execution_count": 30,
     "metadata": {},
     "output_type": "execute_result"
    }
   ],
   "source": [
    "df['Electricity Net Generation'].min()"
   ]
  },
  {
   "cell_type": "code",
   "execution_count": 31,
   "metadata": {},
   "outputs": [],
   "source": [
    "df.to_csv('HEAT_MAP.csv',index=False)"
   ]
  },
  {
   "cell_type": "code",
   "execution_count": null,
   "metadata": {},
   "outputs": [],
   "source": []
  },
  {
   "cell_type": "code",
   "execution_count": null,
   "metadata": {},
   "outputs": [],
   "source": []
  },
  {
   "cell_type": "code",
   "execution_count": null,
   "metadata": {},
   "outputs": [],
   "source": []
  },
  {
   "cell_type": "code",
   "execution_count": null,
   "metadata": {},
   "outputs": [],
   "source": []
  }
 ],
 "metadata": {
  "kernelspec": {
   "display_name": "Python 3",
   "language": "python",
   "name": "python3"
  },
  "language_info": {
   "codemirror_mode": {
    "name": "ipython",
    "version": 3
   },
   "file_extension": ".py",
   "mimetype": "text/x-python",
   "name": "python",
   "nbconvert_exporter": "python",
   "pygments_lexer": "ipython3",
   "version": "3.6.7"
  }
 },
 "nbformat": 4,
 "nbformat_minor": 2
}
