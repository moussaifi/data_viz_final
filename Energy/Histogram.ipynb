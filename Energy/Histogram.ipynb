{
 "cells": [
  {
   "cell_type": "code",
   "execution_count": 1,
   "metadata": {},
   "outputs": [
    {
     "data": {
      "text/html": [
       "<div>\n",
       "<style scoped>\n",
       "    .dataframe tbody tr th:only-of-type {\n",
       "        vertical-align: middle;\n",
       "    }\n",
       "\n",
       "    .dataframe tbody tr th {\n",
       "        vertical-align: top;\n",
       "    }\n",
       "\n",
       "    .dataframe thead th {\n",
       "        text-align: right;\n",
       "    }\n",
       "</style>\n",
       "<table border=\"1\" class=\"dataframe\">\n",
       "  <thead>\n",
       "    <tr style=\"text-align: right;\">\n",
       "      <th></th>\n",
       "      <th>MSN</th>\n",
       "      <th>YYYYMM</th>\n",
       "      <th>Value</th>\n",
       "      <th>Column_Order</th>\n",
       "      <th>Description</th>\n",
       "      <th>Unit</th>\n",
       "    </tr>\n",
       "  </thead>\n",
       "  <tbody>\n",
       "    <tr>\n",
       "      <th>0</th>\n",
       "      <td>PAPRP48</td>\n",
       "      <td>194913</td>\n",
       "      <td>5046.411</td>\n",
       "      <td>1</td>\n",
       "      <td>Crude Oil Production, 48 States</td>\n",
       "      <td>Thousand Barrels per Day</td>\n",
       "    </tr>\n",
       "    <tr>\n",
       "      <th>1</th>\n",
       "      <td>PAPRP48</td>\n",
       "      <td>195013</td>\n",
       "      <td>5407.052</td>\n",
       "      <td>1</td>\n",
       "      <td>Crude Oil Production, 48 States</td>\n",
       "      <td>Thousand Barrels per Day</td>\n",
       "    </tr>\n",
       "    <tr>\n",
       "      <th>2</th>\n",
       "      <td>PAPRP48</td>\n",
       "      <td>195113</td>\n",
       "      <td>6158.112</td>\n",
       "      <td>1</td>\n",
       "      <td>Crude Oil Production, 48 States</td>\n",
       "      <td>Thousand Barrels per Day</td>\n",
       "    </tr>\n",
       "    <tr>\n",
       "      <th>3</th>\n",
       "      <td>PAPRP48</td>\n",
       "      <td>195213</td>\n",
       "      <td>6256.383</td>\n",
       "      <td>1</td>\n",
       "      <td>Crude Oil Production, 48 States</td>\n",
       "      <td>Thousand Barrels per Day</td>\n",
       "    </tr>\n",
       "    <tr>\n",
       "      <th>4</th>\n",
       "      <td>PAPRP48</td>\n",
       "      <td>195313</td>\n",
       "      <td>6457.759</td>\n",
       "      <td>1</td>\n",
       "      <td>Crude Oil Production, 48 States</td>\n",
       "      <td>Thousand Barrels per Day</td>\n",
       "    </tr>\n",
       "  </tbody>\n",
       "</table>\n",
       "</div>"
      ],
      "text/plain": [
       "       MSN  YYYYMM     Value  Column_Order                      Description  \\\n",
       "0  PAPRP48  194913  5046.411             1  Crude Oil Production, 48 States   \n",
       "1  PAPRP48  195013  5407.052             1  Crude Oil Production, 48 States   \n",
       "2  PAPRP48  195113  6158.112             1  Crude Oil Production, 48 States   \n",
       "3  PAPRP48  195213  6256.383             1  Crude Oil Production, 48 States   \n",
       "4  PAPRP48  195313  6457.759             1  Crude Oil Production, 48 States   \n",
       "\n",
       "                       Unit  \n",
       "0  Thousand Barrels per Day  \n",
       "1  Thousand Barrels per Day  \n",
       "2  Thousand Barrels per Day  \n",
       "3  Thousand Barrels per Day  \n",
       "4  Thousand Barrels per Day  "
      ]
     },
     "execution_count": 1,
     "metadata": {},
     "output_type": "execute_result"
    }
   ],
   "source": [
    "import pandas as pd\n",
    "import numpy as np\n",
    "\n",
    "df = pd.read_csv(\"MER_T03_01.csv\")\n",
    "df.head()"
   ]
  },
  {
   "cell_type": "code",
   "execution_count": 2,
   "metadata": {},
   "outputs": [
    {
     "data": {
      "text/plain": [
       "array(['Crude Oil Production, 48 States', 'Crude Oil Production, Alaska',\n",
       "       'Crude Oil Production, Total', 'Natural Gas Liquids Production',\n",
       "       'Total Petroleum Field Production',\n",
       "       'Renewable Fuels and Oxygenate Plant Net Production',\n",
       "       'Petroleum Processing Gain', 'Petroleum Imports',\n",
       "       'Petroleum Exports', 'Petroleum Net Imports',\n",
       "       'Petroleum Stock Change', 'Petroleum Adjustments',\n",
       "       'Petroleum Products Supplied'], dtype=object)"
      ]
     },
     "execution_count": 2,
     "metadata": {},
     "output_type": "execute_result"
    }
   ],
   "source": [
    "df.Description.unique()"
   ]
  },
  {
   "cell_type": "code",
   "execution_count": 4,
   "metadata": {},
   "outputs": [],
   "source": [
    "df = df[(df.Description=='Total Petroleum Field Production')|\n",
    "        (df.Description=='Renewable Fuels and Oxygenate Plant Net Production')|\n",
    "        (df.Description=='Petroleum Net Imports')|(df.Description=='Petroleum Exports')|\n",
    "        (df.Description=='Petroleum Stock Change')|(df.Description=='Petroleum Products Supplied')|\n",
    "        (df.Description=='Petroleum Processing Gain')]"
   ]
  },
  {
   "cell_type": "code",
   "execution_count": 11,
   "metadata": {},
   "outputs": [],
   "source": [
    "data = pd.DataFrame(columns=['year']+ list(df.Description.unique()))"
   ]
  },
  {
   "cell_type": "code",
   "execution_count": 12,
   "metadata": {},
   "outputs": [],
   "source": [
    "for col in data.columns[1:]:\n",
    "    data[col] = np.array(df.Value[df.Description==col])\n",
    "    data[col] = pd.to_numeric(data[col], errors='coerce')"
   ]
  },
  {
   "cell_type": "code",
   "execution_count": 13,
   "metadata": {},
   "outputs": [],
   "source": [
    "data['year'] = np.array(df.YYYYMM[df.Description==data.columns[1]])"
   ]
  },
  {
   "cell_type": "code",
   "execution_count": 14,
   "metadata": {},
   "outputs": [
    {
     "data": {
      "text/html": [
       "<div>\n",
       "<style scoped>\n",
       "    .dataframe tbody tr th:only-of-type {\n",
       "        vertical-align: middle;\n",
       "    }\n",
       "\n",
       "    .dataframe tbody tr th {\n",
       "        vertical-align: top;\n",
       "    }\n",
       "\n",
       "    .dataframe thead th {\n",
       "        text-align: right;\n",
       "    }\n",
       "</style>\n",
       "<table border=\"1\" class=\"dataframe\">\n",
       "  <thead>\n",
       "    <tr style=\"text-align: right;\">\n",
       "      <th></th>\n",
       "      <th>year</th>\n",
       "      <th>Total Petroleum Field Production</th>\n",
       "      <th>Renewable Fuels and Oxygenate Plant Net Production</th>\n",
       "      <th>Petroleum Processing Gain</th>\n",
       "      <th>Petroleum Exports</th>\n",
       "      <th>Petroleum Net Imports</th>\n",
       "      <th>Petroleum Stock Change</th>\n",
       "      <th>Petroleum Products Supplied</th>\n",
       "    </tr>\n",
       "  </thead>\n",
       "  <tbody>\n",
       "    <tr>\n",
       "      <th>0</th>\n",
       "      <td>194913</td>\n",
       "      <td>5476.784</td>\n",
       "      <td>NaN</td>\n",
       "      <td>-1.603</td>\n",
       "      <td>327.058</td>\n",
       "      <td>318.310</td>\n",
       "      <td>-7.814</td>\n",
       "      <td>5763.038</td>\n",
       "    </tr>\n",
       "    <tr>\n",
       "      <th>1</th>\n",
       "      <td>195013</td>\n",
       "      <td>5905.575</td>\n",
       "      <td>NaN</td>\n",
       "      <td>1.951</td>\n",
       "      <td>304.948</td>\n",
       "      <td>545.082</td>\n",
       "      <td>-55.915</td>\n",
       "      <td>6457.918</td>\n",
       "    </tr>\n",
       "    <tr>\n",
       "      <th>2</th>\n",
       "      <td>195113</td>\n",
       "      <td>6719.082</td>\n",
       "      <td>NaN</td>\n",
       "      <td>7.255</td>\n",
       "      <td>422.060</td>\n",
       "      <td>422.307</td>\n",
       "      <td>101.345</td>\n",
       "      <td>7016.132</td>\n",
       "    </tr>\n",
       "    <tr>\n",
       "      <th>3</th>\n",
       "      <td>195213</td>\n",
       "      <td>6867.079</td>\n",
       "      <td>NaN</td>\n",
       "      <td>6.973</td>\n",
       "      <td>432.208</td>\n",
       "      <td>519.997</td>\n",
       "      <td>108.320</td>\n",
       "      <td>7269.617</td>\n",
       "    </tr>\n",
       "    <tr>\n",
       "      <th>4</th>\n",
       "      <td>195313</td>\n",
       "      <td>7111.400</td>\n",
       "      <td>NaN</td>\n",
       "      <td>19.682</td>\n",
       "      <td>401.619</td>\n",
       "      <td>632.625</td>\n",
       "      <td>141.789</td>\n",
       "      <td>7599.627</td>\n",
       "    </tr>\n",
       "  </tbody>\n",
       "</table>\n",
       "</div>"
      ],
      "text/plain": [
       "     year  Total Petroleum Field Production  \\\n",
       "0  194913                          5476.784   \n",
       "1  195013                          5905.575   \n",
       "2  195113                          6719.082   \n",
       "3  195213                          6867.079   \n",
       "4  195313                          7111.400   \n",
       "\n",
       "   Renewable Fuels and Oxygenate Plant Net Production  \\\n",
       "0                                                NaN    \n",
       "1                                                NaN    \n",
       "2                                                NaN    \n",
       "3                                                NaN    \n",
       "4                                                NaN    \n",
       "\n",
       "   Petroleum Processing Gain  Petroleum Exports  Petroleum Net Imports  \\\n",
       "0                     -1.603            327.058                318.310   \n",
       "1                      1.951            304.948                545.082   \n",
       "2                      7.255            422.060                422.307   \n",
       "3                      6.973            432.208                519.997   \n",
       "4                     19.682            401.619                632.625   \n",
       "\n",
       "   Petroleum Stock Change  Petroleum Products Supplied  \n",
       "0                  -7.814                     5763.038  \n",
       "1                 -55.915                     6457.918  \n",
       "2                 101.345                     7016.132  \n",
       "3                 108.320                     7269.617  \n",
       "4                 141.789                     7599.627  "
      ]
     },
     "execution_count": 14,
     "metadata": {},
     "output_type": "execute_result"
    }
   ],
   "source": [
    "data.head()"
   ]
  },
  {
   "cell_type": "code",
   "execution_count": 15,
   "metadata": {},
   "outputs": [
    {
     "data": {
      "text/plain": [
       "(625, 8)"
      ]
     },
     "execution_count": 15,
     "metadata": {},
     "output_type": "execute_result"
    }
   ],
   "source": [
    "data.shape"
   ]
  },
  {
   "cell_type": "code",
   "execution_count": 16,
   "metadata": {},
   "outputs": [
    {
     "data": {
      "text/plain": [
       "year                                                    int64\n",
       "Total Petroleum Field Production                      float64\n",
       "Renewable Fuels and Oxygenate Plant Net Production    float64\n",
       "Petroleum Processing Gain                             float64\n",
       "Petroleum Exports                                     float64\n",
       "Petroleum Net Imports                                 float64\n",
       "Petroleum Stock Change                                float64\n",
       "Petroleum Products Supplied                           float64\n",
       "dtype: object"
      ]
     },
     "execution_count": 16,
     "metadata": {},
     "output_type": "execute_result"
    }
   ],
   "source": [
    "data.dtypes"
   ]
  },
  {
   "cell_type": "code",
   "execution_count": 17,
   "metadata": {},
   "outputs": [],
   "source": [
    "data.year= data.year.apply(lambda x: str(x))\n",
    "\n",
    "data = data[data.year.str.endswith('13')]\n",
    "\n",
    "data.year= data.year.apply(lambda x: int(x[:-2]))"
   ]
  },
  {
   "cell_type": "code",
   "execution_count": 18,
   "metadata": {},
   "outputs": [
    {
     "data": {
      "text/html": [
       "<div>\n",
       "<style scoped>\n",
       "    .dataframe tbody tr th:only-of-type {\n",
       "        vertical-align: middle;\n",
       "    }\n",
       "\n",
       "    .dataframe tbody tr th {\n",
       "        vertical-align: top;\n",
       "    }\n",
       "\n",
       "    .dataframe thead th {\n",
       "        text-align: right;\n",
       "    }\n",
       "</style>\n",
       "<table border=\"1\" class=\"dataframe\">\n",
       "  <thead>\n",
       "    <tr style=\"text-align: right;\">\n",
       "      <th></th>\n",
       "      <th>year</th>\n",
       "      <th>Total Petroleum Field Production</th>\n",
       "      <th>Renewable Fuels and Oxygenate Plant Net Production</th>\n",
       "      <th>Petroleum Processing Gain</th>\n",
       "      <th>Petroleum Exports</th>\n",
       "      <th>Petroleum Net Imports</th>\n",
       "      <th>Petroleum Stock Change</th>\n",
       "      <th>Petroleum Products Supplied</th>\n",
       "    </tr>\n",
       "  </thead>\n",
       "  <tbody>\n",
       "    <tr>\n",
       "      <th>0</th>\n",
       "      <td>1949</td>\n",
       "      <td>5476.784</td>\n",
       "      <td>NaN</td>\n",
       "      <td>-1.603</td>\n",
       "      <td>327.058</td>\n",
       "      <td>318.310</td>\n",
       "      <td>-7.814</td>\n",
       "      <td>5763.038</td>\n",
       "    </tr>\n",
       "    <tr>\n",
       "      <th>1</th>\n",
       "      <td>1950</td>\n",
       "      <td>5905.575</td>\n",
       "      <td>NaN</td>\n",
       "      <td>1.951</td>\n",
       "      <td>304.948</td>\n",
       "      <td>545.082</td>\n",
       "      <td>-55.915</td>\n",
       "      <td>6457.918</td>\n",
       "    </tr>\n",
       "    <tr>\n",
       "      <th>2</th>\n",
       "      <td>1951</td>\n",
       "      <td>6719.082</td>\n",
       "      <td>NaN</td>\n",
       "      <td>7.255</td>\n",
       "      <td>422.060</td>\n",
       "      <td>422.307</td>\n",
       "      <td>101.345</td>\n",
       "      <td>7016.132</td>\n",
       "    </tr>\n",
       "    <tr>\n",
       "      <th>3</th>\n",
       "      <td>1952</td>\n",
       "      <td>6867.079</td>\n",
       "      <td>NaN</td>\n",
       "      <td>6.973</td>\n",
       "      <td>432.208</td>\n",
       "      <td>519.997</td>\n",
       "      <td>108.320</td>\n",
       "      <td>7269.617</td>\n",
       "    </tr>\n",
       "    <tr>\n",
       "      <th>4</th>\n",
       "      <td>1953</td>\n",
       "      <td>7111.400</td>\n",
       "      <td>NaN</td>\n",
       "      <td>19.682</td>\n",
       "      <td>401.619</td>\n",
       "      <td>632.625</td>\n",
       "      <td>141.789</td>\n",
       "      <td>7599.627</td>\n",
       "    </tr>\n",
       "  </tbody>\n",
       "</table>\n",
       "</div>"
      ],
      "text/plain": [
       "   year  Total Petroleum Field Production  \\\n",
       "0  1949                          5476.784   \n",
       "1  1950                          5905.575   \n",
       "2  1951                          6719.082   \n",
       "3  1952                          6867.079   \n",
       "4  1953                          7111.400   \n",
       "\n",
       "   Renewable Fuels and Oxygenate Plant Net Production  \\\n",
       "0                                                NaN    \n",
       "1                                                NaN    \n",
       "2                                                NaN    \n",
       "3                                                NaN    \n",
       "4                                                NaN    \n",
       "\n",
       "   Petroleum Processing Gain  Petroleum Exports  Petroleum Net Imports  \\\n",
       "0                     -1.603            327.058                318.310   \n",
       "1                      1.951            304.948                545.082   \n",
       "2                      7.255            422.060                422.307   \n",
       "3                      6.973            432.208                519.997   \n",
       "4                     19.682            401.619                632.625   \n",
       "\n",
       "   Petroleum Stock Change  Petroleum Products Supplied  \n",
       "0                  -7.814                     5763.038  \n",
       "1                 -55.915                     6457.918  \n",
       "2                 101.345                     7016.132  \n",
       "3                 108.320                     7269.617  \n",
       "4                 141.789                     7599.627  "
      ]
     },
     "execution_count": 18,
     "metadata": {},
     "output_type": "execute_result"
    }
   ],
   "source": [
    "data.head()"
   ]
  },
  {
   "cell_type": "code",
   "execution_count": 19,
   "metadata": {},
   "outputs": [
    {
     "data": {
      "text/plain": [
       "year                                                    int64\n",
       "Total Petroleum Field Production                      float64\n",
       "Renewable Fuels and Oxygenate Plant Net Production    float64\n",
       "Petroleum Processing Gain                             float64\n",
       "Petroleum Exports                                     float64\n",
       "Petroleum Net Imports                                 float64\n",
       "Petroleum Stock Change                                float64\n",
       "Petroleum Products Supplied                           float64\n",
       "dtype: object"
      ]
     },
     "execution_count": 19,
     "metadata": {},
     "output_type": "execute_result"
    }
   ],
   "source": [
    "data.dtypes"
   ]
  },
  {
   "cell_type": "code",
   "execution_count": 20,
   "metadata": {},
   "outputs": [
    {
     "data": {
      "text/plain": [
       "Index(['year', 'Total Petroleum Field Production',\n",
       "       'Renewable Fuels and Oxygenate Plant Net Production',\n",
       "       'Petroleum Processing Gain', 'Petroleum Exports',\n",
       "       'Petroleum Net Imports', 'Petroleum Stock Change',\n",
       "       'Petroleum Products Supplied'],\n",
       "      dtype='object')"
      ]
     },
     "execution_count": 20,
     "metadata": {},
     "output_type": "execute_result"
    }
   ],
   "source": [
    "data.columns"
   ]
  },
  {
   "cell_type": "code",
   "execution_count": 21,
   "metadata": {},
   "outputs": [],
   "source": [
    "data = data.reset_index()"
   ]
  },
  {
   "cell_type": "code",
   "execution_count": 22,
   "metadata": {},
   "outputs": [
    {
     "data": {
      "text/html": [
       "<div>\n",
       "<style scoped>\n",
       "    .dataframe tbody tr th:only-of-type {\n",
       "        vertical-align: middle;\n",
       "    }\n",
       "\n",
       "    .dataframe tbody tr th {\n",
       "        vertical-align: top;\n",
       "    }\n",
       "\n",
       "    .dataframe thead th {\n",
       "        text-align: right;\n",
       "    }\n",
       "</style>\n",
       "<table border=\"1\" class=\"dataframe\">\n",
       "  <thead>\n",
       "    <tr style=\"text-align: right;\">\n",
       "      <th></th>\n",
       "      <th>year</th>\n",
       "      <th>Total Petroleum Field Production</th>\n",
       "      <th>Renewable Fuels and Oxygenate Plant Net Production</th>\n",
       "      <th>Petroleum Processing Gain</th>\n",
       "      <th>Petroleum Exports</th>\n",
       "      <th>Petroleum Net Imports</th>\n",
       "      <th>Petroleum Stock Change</th>\n",
       "      <th>Petroleum Products Supplied</th>\n",
       "    </tr>\n",
       "  </thead>\n",
       "  <tbody>\n",
       "    <tr>\n",
       "      <th>0</th>\n",
       "      <td>1949</td>\n",
       "      <td>5476.784</td>\n",
       "      <td>NaN</td>\n",
       "      <td>-1.603</td>\n",
       "      <td>327.058</td>\n",
       "      <td>318.310</td>\n",
       "      <td>-7.814</td>\n",
       "      <td>5763.038</td>\n",
       "    </tr>\n",
       "    <tr>\n",
       "      <th>1</th>\n",
       "      <td>1950</td>\n",
       "      <td>5905.575</td>\n",
       "      <td>NaN</td>\n",
       "      <td>1.951</td>\n",
       "      <td>304.948</td>\n",
       "      <td>545.082</td>\n",
       "      <td>-55.915</td>\n",
       "      <td>6457.918</td>\n",
       "    </tr>\n",
       "    <tr>\n",
       "      <th>2</th>\n",
       "      <td>1951</td>\n",
       "      <td>6719.082</td>\n",
       "      <td>NaN</td>\n",
       "      <td>7.255</td>\n",
       "      <td>422.060</td>\n",
       "      <td>422.307</td>\n",
       "      <td>101.345</td>\n",
       "      <td>7016.132</td>\n",
       "    </tr>\n",
       "    <tr>\n",
       "      <th>3</th>\n",
       "      <td>1952</td>\n",
       "      <td>6867.079</td>\n",
       "      <td>NaN</td>\n",
       "      <td>6.973</td>\n",
       "      <td>432.208</td>\n",
       "      <td>519.997</td>\n",
       "      <td>108.320</td>\n",
       "      <td>7269.617</td>\n",
       "    </tr>\n",
       "    <tr>\n",
       "      <th>4</th>\n",
       "      <td>1953</td>\n",
       "      <td>7111.400</td>\n",
       "      <td>NaN</td>\n",
       "      <td>19.682</td>\n",
       "      <td>401.619</td>\n",
       "      <td>632.625</td>\n",
       "      <td>141.789</td>\n",
       "      <td>7599.627</td>\n",
       "    </tr>\n",
       "  </tbody>\n",
       "</table>\n",
       "</div>"
      ],
      "text/plain": [
       "   year  Total Petroleum Field Production  \\\n",
       "0  1949                          5476.784   \n",
       "1  1950                          5905.575   \n",
       "2  1951                          6719.082   \n",
       "3  1952                          6867.079   \n",
       "4  1953                          7111.400   \n",
       "\n",
       "   Renewable Fuels and Oxygenate Plant Net Production  \\\n",
       "0                                                NaN    \n",
       "1                                                NaN    \n",
       "2                                                NaN    \n",
       "3                                                NaN    \n",
       "4                                                NaN    \n",
       "\n",
       "   Petroleum Processing Gain  Petroleum Exports  Petroleum Net Imports  \\\n",
       "0                     -1.603            327.058                318.310   \n",
       "1                      1.951            304.948                545.082   \n",
       "2                      7.255            422.060                422.307   \n",
       "3                      6.973            432.208                519.997   \n",
       "4                     19.682            401.619                632.625   \n",
       "\n",
       "   Petroleum Stock Change  Petroleum Products Supplied  \n",
       "0                  -7.814                     5763.038  \n",
       "1                 -55.915                     6457.918  \n",
       "2                 101.345                     7016.132  \n",
       "3                 108.320                     7269.617  \n",
       "4                 141.789                     7599.627  "
      ]
     },
     "execution_count": 22,
     "metadata": {},
     "output_type": "execute_result"
    }
   ],
   "source": [
    "data.head()"
   ]
  },
  {
   "cell_type": "code",
   "execution_count": 24,
   "metadata": {},
   "outputs": [],
   "source": [
    "data['Total Petroleum Field Production'] = data['Total Petroleum Field Production']/1000"
   ]
  },
  {
   "cell_type": "code",
   "execution_count": 26,
   "metadata": {},
   "outputs": [],
   "source": [
    "data['Petroleum Exports'] = data['Petroleum Exports']/1000\n",
    "data['Petroleum Net Imports'] = data['Petroleum Net Imports']/1000"
   ]
  },
  {
   "cell_type": "code",
   "execution_count": 27,
   "metadata": {},
   "outputs": [],
   "source": [
    "data.to_csv('Petroleum_overview.csv', index=False)"
   ]
  },
  {
   "cell_type": "code",
   "execution_count": null,
   "metadata": {},
   "outputs": [],
   "source": []
  },
  {
   "cell_type": "code",
   "execution_count": null,
   "metadata": {},
   "outputs": [],
   "source": []
  }
 ],
 "metadata": {
  "kernelspec": {
   "display_name": "Python 3",
   "language": "python",
   "name": "python3"
  },
  "language_info": {
   "codemirror_mode": {
    "name": "ipython",
    "version": 3
   },
   "file_extension": ".py",
   "mimetype": "text/x-python",
   "name": "python",
   "nbconvert_exporter": "python",
   "pygments_lexer": "ipython3",
   "version": "3.6.7"
  }
 },
 "nbformat": 4,
 "nbformat_minor": 2
}
