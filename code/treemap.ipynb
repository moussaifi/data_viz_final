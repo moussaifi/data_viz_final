{
 "cells": [
  {
   "cell_type": "code",
   "execution_count": 1,
   "metadata": {},
   "outputs": [
    {
     "data": {
      "text/html": [
       "<div>\n",
       "<style scoped>\n",
       "    .dataframe tbody tr th:only-of-type {\n",
       "        vertical-align: middle;\n",
       "    }\n",
       "\n",
       "    .dataframe tbody tr th {\n",
       "        vertical-align: top;\n",
       "    }\n",
       "\n",
       "    .dataframe thead th {\n",
       "        text-align: right;\n",
       "    }\n",
       "</style>\n",
       "<table border=\"1\" class=\"dataframe\">\n",
       "  <thead>\n",
       "    <tr style=\"text-align: right;\">\n",
       "      <th></th>\n",
       "      <th>MSN</th>\n",
       "      <th>YYYYMM</th>\n",
       "      <th>Value</th>\n",
       "      <th>Column_Order</th>\n",
       "      <th>Description</th>\n",
       "      <th>Unit</th>\n",
       "    </tr>\n",
       "  </thead>\n",
       "  <tbody>\n",
       "    <tr>\n",
       "      <th>0</th>\n",
       "      <td>NGWPUUS</td>\n",
       "      <td>194913</td>\n",
       "      <td>0.06</td>\n",
       "      <td>1</td>\n",
       "      <td>Natural Gas Price, Wellhead</td>\n",
       "      <td>Dollars per Thousand Cubic Feet</td>\n",
       "    </tr>\n",
       "    <tr>\n",
       "      <th>1</th>\n",
       "      <td>NGWPUUS</td>\n",
       "      <td>195013</td>\n",
       "      <td>0.07</td>\n",
       "      <td>1</td>\n",
       "      <td>Natural Gas Price, Wellhead</td>\n",
       "      <td>Dollars per Thousand Cubic Feet</td>\n",
       "    </tr>\n",
       "    <tr>\n",
       "      <th>2</th>\n",
       "      <td>NGWPUUS</td>\n",
       "      <td>195113</td>\n",
       "      <td>0.07</td>\n",
       "      <td>1</td>\n",
       "      <td>Natural Gas Price, Wellhead</td>\n",
       "      <td>Dollars per Thousand Cubic Feet</td>\n",
       "    </tr>\n",
       "    <tr>\n",
       "      <th>3</th>\n",
       "      <td>NGWPUUS</td>\n",
       "      <td>195213</td>\n",
       "      <td>0.08</td>\n",
       "      <td>1</td>\n",
       "      <td>Natural Gas Price, Wellhead</td>\n",
       "      <td>Dollars per Thousand Cubic Feet</td>\n",
       "    </tr>\n",
       "    <tr>\n",
       "      <th>4</th>\n",
       "      <td>NGWPUUS</td>\n",
       "      <td>195313</td>\n",
       "      <td>0.09</td>\n",
       "      <td>1</td>\n",
       "      <td>Natural Gas Price, Wellhead</td>\n",
       "      <td>Dollars per Thousand Cubic Feet</td>\n",
       "    </tr>\n",
       "  </tbody>\n",
       "</table>\n",
       "</div>"
      ],
      "text/plain": [
       "       MSN  YYYYMM Value  Column_Order                  Description  \\\n",
       "0  NGWPUUS  194913  0.06             1  Natural Gas Price, Wellhead   \n",
       "1  NGWPUUS  195013  0.07             1  Natural Gas Price, Wellhead   \n",
       "2  NGWPUUS  195113  0.07             1  Natural Gas Price, Wellhead   \n",
       "3  NGWPUUS  195213  0.08             1  Natural Gas Price, Wellhead   \n",
       "4  NGWPUUS  195313  0.09             1  Natural Gas Price, Wellhead   \n",
       "\n",
       "                              Unit  \n",
       "0  Dollars per Thousand Cubic Feet  \n",
       "1  Dollars per Thousand Cubic Feet  \n",
       "2  Dollars per Thousand Cubic Feet  \n",
       "3  Dollars per Thousand Cubic Feet  \n",
       "4  Dollars per Thousand Cubic Feet  "
      ]
     },
     "execution_count": 1,
     "metadata": {},
     "output_type": "execute_result"
    }
   ],
   "source": [
    "import pandas as pd\n",
    "import numpy as np\n",
    "\n",
    "df = pd.read_csv(\"MER_T09_10.csv\")\n",
    "df.head()"
   ]
  },
  {
   "cell_type": "code",
   "execution_count": 2,
   "metadata": {},
   "outputs": [
    {
     "data": {
      "text/plain": [
       "array(['Natural Gas Price, Wellhead', 'Natural Gas Price, Citygate',\n",
       "       'Natural Gas Price, Delivered to Consumers, Residential',\n",
       "       'Percentage of Residential Sector Consumption for Which Price Data Are Available',\n",
       "       'Natural Gas Price, Delivered to Consumers, Commercial',\n",
       "       'Percentage of Commercial Sector Consumption for Which Price Data Are Available',\n",
       "       'Natural Gas Price, Delivered to Consumers, Industrial',\n",
       "       'Percentage of Industrial Sector Consumption for Which Price Data Are Available',\n",
       "       'Natural Gas Transportation Sector Price',\n",
       "       'Natural Gas Price, Electric Power Sector',\n",
       "       'Percentage of Electric Power Sector Consumption for Which Price Data Are Available'],\n",
       "      dtype=object)"
      ]
     },
     "execution_count": 2,
     "metadata": {},
     "output_type": "execute_result"
    }
   ],
   "source": [
    "df.Description.unique()"
   ]
  },
  {
   "cell_type": "code",
   "execution_count": 3,
   "metadata": {},
   "outputs": [],
   "source": [
    "df.Description = df.Description.apply(lambda x: x.replace('Natural Gas Price, ',''))"
   ]
  },
  {
   "cell_type": "code",
   "execution_count": 4,
   "metadata": {},
   "outputs": [
    {
     "data": {
      "text/plain": [
       "array(['Wellhead', 'Citygate', 'Delivered to Consumers, Residential',\n",
       "       'Percentage of Residential Sector Consumption for Which Price Data Are Available',\n",
       "       'Delivered to Consumers, Commercial',\n",
       "       'Percentage of Commercial Sector Consumption for Which Price Data Are Available',\n",
       "       'Delivered to Consumers, Industrial',\n",
       "       'Percentage of Industrial Sector Consumption for Which Price Data Are Available',\n",
       "       'Natural Gas Transportation Sector Price', 'Electric Power Sector',\n",
       "       'Percentage of Electric Power Sector Consumption for Which Price Data Are Available'],\n",
       "      dtype=object)"
      ]
     },
     "execution_count": 4,
     "metadata": {},
     "output_type": "execute_result"
    }
   ],
   "source": [
    "df.Description.unique()"
   ]
  },
  {
   "cell_type": "code",
   "execution_count": 5,
   "metadata": {},
   "outputs": [],
   "source": [
    "df.Description = df.Description.apply(lambda x: x.replace('Delivered to Consumers, ',''))"
   ]
  },
  {
   "cell_type": "code",
   "execution_count": 6,
   "metadata": {},
   "outputs": [
    {
     "data": {
      "text/plain": [
       "array(['Wellhead', 'Citygate', 'Residential',\n",
       "       'Percentage of Residential Sector Consumption for Which Price Data Are Available',\n",
       "       'Commercial',\n",
       "       'Percentage of Commercial Sector Consumption for Which Price Data Are Available',\n",
       "       'Industrial',\n",
       "       'Percentage of Industrial Sector Consumption for Which Price Data Are Available',\n",
       "       'Natural Gas Transportation Sector Price', 'Electric Power Sector',\n",
       "       'Percentage of Electric Power Sector Consumption for Which Price Data Are Available'],\n",
       "      dtype=object)"
      ]
     },
     "execution_count": 6,
     "metadata": {},
     "output_type": "execute_result"
    }
   ],
   "source": [
    "df.Description.unique()"
   ]
  },
  {
   "cell_type": "code",
   "execution_count": 7,
   "metadata": {},
   "outputs": [],
   "source": [
    "df.Description = df.Description.apply(lambda x: x.replace('Natural Gas Transportation Sector Price','Transportation'))"
   ]
  },
  {
   "cell_type": "code",
   "execution_count": 8,
   "metadata": {},
   "outputs": [],
   "source": [
    "df.Description = df.Description.apply(lambda x: x.replace('Electric Power Sector','Electric Power'))"
   ]
  },
  {
   "cell_type": "code",
   "execution_count": 12,
   "metadata": {},
   "outputs": [
    {
     "data": {
      "text/html": [
       "<div>\n",
       "<style scoped>\n",
       "    .dataframe tbody tr th:only-of-type {\n",
       "        vertical-align: middle;\n",
       "    }\n",
       "\n",
       "    .dataframe tbody tr th {\n",
       "        vertical-align: top;\n",
       "    }\n",
       "\n",
       "    .dataframe thead th {\n",
       "        text-align: right;\n",
       "    }\n",
       "</style>\n",
       "<table border=\"1\" class=\"dataframe\">\n",
       "  <thead>\n",
       "    <tr style=\"text-align: right;\">\n",
       "      <th></th>\n",
       "      <th>MSN</th>\n",
       "      <th>YYYYMM</th>\n",
       "      <th>Value</th>\n",
       "      <th>Column_Order</th>\n",
       "      <th>Description</th>\n",
       "      <th>Unit</th>\n",
       "    </tr>\n",
       "  </thead>\n",
       "  <tbody>\n",
       "    <tr>\n",
       "      <th>0</th>\n",
       "      <td>NGWPUUS</td>\n",
       "      <td>194913</td>\n",
       "      <td>0.06</td>\n",
       "      <td>1</td>\n",
       "      <td>Wellhead</td>\n",
       "      <td>Dollars per Thousand Cubic Feet</td>\n",
       "    </tr>\n",
       "    <tr>\n",
       "      <th>1</th>\n",
       "      <td>NGWPUUS</td>\n",
       "      <td>195013</td>\n",
       "      <td>0.07</td>\n",
       "      <td>1</td>\n",
       "      <td>Wellhead</td>\n",
       "      <td>Dollars per Thousand Cubic Feet</td>\n",
       "    </tr>\n",
       "    <tr>\n",
       "      <th>2</th>\n",
       "      <td>NGWPUUS</td>\n",
       "      <td>195113</td>\n",
       "      <td>0.07</td>\n",
       "      <td>1</td>\n",
       "      <td>Wellhead</td>\n",
       "      <td>Dollars per Thousand Cubic Feet</td>\n",
       "    </tr>\n",
       "    <tr>\n",
       "      <th>3</th>\n",
       "      <td>NGWPUUS</td>\n",
       "      <td>195213</td>\n",
       "      <td>0.08</td>\n",
       "      <td>1</td>\n",
       "      <td>Wellhead</td>\n",
       "      <td>Dollars per Thousand Cubic Feet</td>\n",
       "    </tr>\n",
       "    <tr>\n",
       "      <th>4</th>\n",
       "      <td>NGWPUUS</td>\n",
       "      <td>195313</td>\n",
       "      <td>0.09</td>\n",
       "      <td>1</td>\n",
       "      <td>Wellhead</td>\n",
       "      <td>Dollars per Thousand Cubic Feet</td>\n",
       "    </tr>\n",
       "  </tbody>\n",
       "</table>\n",
       "</div>"
      ],
      "text/plain": [
       "       MSN  YYYYMM Value  Column_Order Description  \\\n",
       "0  NGWPUUS  194913  0.06             1    Wellhead   \n",
       "1  NGWPUUS  195013  0.07             1    Wellhead   \n",
       "2  NGWPUUS  195113  0.07             1    Wellhead   \n",
       "3  NGWPUUS  195213  0.08             1    Wellhead   \n",
       "4  NGWPUUS  195313  0.09             1    Wellhead   \n",
       "\n",
       "                              Unit  \n",
       "0  Dollars per Thousand Cubic Feet  \n",
       "1  Dollars per Thousand Cubic Feet  \n",
       "2  Dollars per Thousand Cubic Feet  \n",
       "3  Dollars per Thousand Cubic Feet  \n",
       "4  Dollars per Thousand Cubic Feet  "
      ]
     },
     "execution_count": 12,
     "metadata": {},
     "output_type": "execute_result"
    }
   ],
   "source": [
    "df.head()"
   ]
  },
  {
   "cell_type": "code",
   "execution_count": 13,
   "metadata": {},
   "outputs": [],
   "source": [
    "df = df[(df.Description=='Wellhead')|\n",
    "        (df.Description=='Citygate')|\n",
    "        (df.Description=='Residential')|\n",
    "        (df.Description=='Commercial')|\n",
    "        (df.Description=='Industrial')|\n",
    "        (df.Description=='Transportation')|\n",
    "        (df.Description=='Electric Power')]"
   ]
  },
  {
   "cell_type": "code",
   "execution_count": 14,
   "metadata": {},
   "outputs": [
    {
     "data": {
      "text/html": [
       "<div>\n",
       "<style scoped>\n",
       "    .dataframe tbody tr th:only-of-type {\n",
       "        vertical-align: middle;\n",
       "    }\n",
       "\n",
       "    .dataframe tbody tr th {\n",
       "        vertical-align: top;\n",
       "    }\n",
       "\n",
       "    .dataframe thead th {\n",
       "        text-align: right;\n",
       "    }\n",
       "</style>\n",
       "<table border=\"1\" class=\"dataframe\">\n",
       "  <thead>\n",
       "    <tr style=\"text-align: right;\">\n",
       "      <th></th>\n",
       "      <th>MSN</th>\n",
       "      <th>YYYYMM</th>\n",
       "      <th>Value</th>\n",
       "      <th>Column_Order</th>\n",
       "      <th>Description</th>\n",
       "      <th>Unit</th>\n",
       "    </tr>\n",
       "  </thead>\n",
       "  <tbody>\n",
       "    <tr>\n",
       "      <th>0</th>\n",
       "      <td>NGWPUUS</td>\n",
       "      <td>194913</td>\n",
       "      <td>0.06</td>\n",
       "      <td>1</td>\n",
       "      <td>Wellhead</td>\n",
       "      <td>Dollars per Thousand Cubic Feet</td>\n",
       "    </tr>\n",
       "    <tr>\n",
       "      <th>1</th>\n",
       "      <td>NGWPUUS</td>\n",
       "      <td>195013</td>\n",
       "      <td>0.07</td>\n",
       "      <td>1</td>\n",
       "      <td>Wellhead</td>\n",
       "      <td>Dollars per Thousand Cubic Feet</td>\n",
       "    </tr>\n",
       "    <tr>\n",
       "      <th>2</th>\n",
       "      <td>NGWPUUS</td>\n",
       "      <td>195113</td>\n",
       "      <td>0.07</td>\n",
       "      <td>1</td>\n",
       "      <td>Wellhead</td>\n",
       "      <td>Dollars per Thousand Cubic Feet</td>\n",
       "    </tr>\n",
       "    <tr>\n",
       "      <th>3</th>\n",
       "      <td>NGWPUUS</td>\n",
       "      <td>195213</td>\n",
       "      <td>0.08</td>\n",
       "      <td>1</td>\n",
       "      <td>Wellhead</td>\n",
       "      <td>Dollars per Thousand Cubic Feet</td>\n",
       "    </tr>\n",
       "    <tr>\n",
       "      <th>4</th>\n",
       "      <td>NGWPUUS</td>\n",
       "      <td>195313</td>\n",
       "      <td>0.09</td>\n",
       "      <td>1</td>\n",
       "      <td>Wellhead</td>\n",
       "      <td>Dollars per Thousand Cubic Feet</td>\n",
       "    </tr>\n",
       "  </tbody>\n",
       "</table>\n",
       "</div>"
      ],
      "text/plain": [
       "       MSN  YYYYMM Value  Column_Order Description  \\\n",
       "0  NGWPUUS  194913  0.06             1    Wellhead   \n",
       "1  NGWPUUS  195013  0.07             1    Wellhead   \n",
       "2  NGWPUUS  195113  0.07             1    Wellhead   \n",
       "3  NGWPUUS  195213  0.08             1    Wellhead   \n",
       "4  NGWPUUS  195313  0.09             1    Wellhead   \n",
       "\n",
       "                              Unit  \n",
       "0  Dollars per Thousand Cubic Feet  \n",
       "1  Dollars per Thousand Cubic Feet  \n",
       "2  Dollars per Thousand Cubic Feet  \n",
       "3  Dollars per Thousand Cubic Feet  \n",
       "4  Dollars per Thousand Cubic Feet  "
      ]
     },
     "execution_count": 14,
     "metadata": {},
     "output_type": "execute_result"
    }
   ],
   "source": [
    "df.head()"
   ]
  },
  {
   "cell_type": "code",
   "execution_count": 15,
   "metadata": {},
   "outputs": [],
   "source": [
    "df = df[['YYYYMM','Value','Description']]"
   ]
  },
  {
   "cell_type": "code",
   "execution_count": 16,
   "metadata": {},
   "outputs": [],
   "source": [
    "df.columns = ['year','Natural Gas Price','Sector']"
   ]
  },
  {
   "cell_type": "code",
   "execution_count": 17,
   "metadata": {},
   "outputs": [
    {
     "data": {
      "text/plain": [
       "year                  int64\n",
       "Natural Gas Price    object\n",
       "Sector               object\n",
       "dtype: object"
      ]
     },
     "execution_count": 17,
     "metadata": {},
     "output_type": "execute_result"
    }
   ],
   "source": [
    "df.dtypes"
   ]
  },
  {
   "cell_type": "code",
   "execution_count": 18,
   "metadata": {},
   "outputs": [],
   "source": [
    "df['Natural Gas Price'][df['Natural Gas Price']=='Not Available']=None"
   ]
  },
  {
   "cell_type": "code",
   "execution_count": 19,
   "metadata": {},
   "outputs": [],
   "source": [
    "df['Natural Gas Price'] = df['Natural Gas Price'].astype('float', errors='ignore')"
   ]
  },
  {
   "cell_type": "code",
   "execution_count": null,
   "metadata": {},
   "outputs": [],
   "source": []
  },
  {
   "cell_type": "code",
   "execution_count": 20,
   "metadata": {},
   "outputs": [
    {
     "data": {
      "text/plain": [
       "year                   int64\n",
       "Natural Gas Price    float64\n",
       "Sector                object\n",
       "dtype: object"
      ]
     },
     "execution_count": 20,
     "metadata": {},
     "output_type": "execute_result"
    }
   ],
   "source": [
    "df.dtypes"
   ]
  },
  {
   "cell_type": "code",
   "execution_count": 21,
   "metadata": {},
   "outputs": [],
   "source": [
    "df.year = df.year.apply(lambda x: int(str(x)[:-2]))\n",
    "df = df[df.year>=1973]"
   ]
  },
  {
   "cell_type": "code",
   "execution_count": 22,
   "metadata": {},
   "outputs": [
    {
     "data": {
      "text/html": [
       "<div>\n",
       "<style scoped>\n",
       "    .dataframe tbody tr th:only-of-type {\n",
       "        vertical-align: middle;\n",
       "    }\n",
       "\n",
       "    .dataframe tbody tr th {\n",
       "        vertical-align: top;\n",
       "    }\n",
       "\n",
       "    .dataframe thead th {\n",
       "        text-align: right;\n",
       "    }\n",
       "</style>\n",
       "<table border=\"1\" class=\"dataframe\">\n",
       "  <thead>\n",
       "    <tr style=\"text-align: right;\">\n",
       "      <th></th>\n",
       "      <th>year</th>\n",
       "      <th>Natural Gas Price</th>\n",
       "      <th>Sector</th>\n",
       "    </tr>\n",
       "  </thead>\n",
       "  <tbody>\n",
       "    <tr>\n",
       "      <th>24</th>\n",
       "      <td>1973</td>\n",
       "      <td>0.22</td>\n",
       "      <td>Wellhead</td>\n",
       "    </tr>\n",
       "    <tr>\n",
       "      <th>25</th>\n",
       "      <td>1974</td>\n",
       "      <td>0.30</td>\n",
       "      <td>Wellhead</td>\n",
       "    </tr>\n",
       "    <tr>\n",
       "      <th>26</th>\n",
       "      <td>1975</td>\n",
       "      <td>0.44</td>\n",
       "      <td>Wellhead</td>\n",
       "    </tr>\n",
       "    <tr>\n",
       "      <th>27</th>\n",
       "      <td>1976</td>\n",
       "      <td>0.54</td>\n",
       "      <td>Wellhead</td>\n",
       "    </tr>\n",
       "    <tr>\n",
       "      <th>28</th>\n",
       "      <td>1976</td>\n",
       "      <td>0.54</td>\n",
       "      <td>Wellhead</td>\n",
       "    </tr>\n",
       "  </tbody>\n",
       "</table>\n",
       "</div>"
      ],
      "text/plain": [
       "    year  Natural Gas Price    Sector\n",
       "24  1973               0.22  Wellhead\n",
       "25  1974               0.30  Wellhead\n",
       "26  1975               0.44  Wellhead\n",
       "27  1976               0.54  Wellhead\n",
       "28  1976               0.54  Wellhead"
      ]
     },
     "execution_count": 22,
     "metadata": {},
     "output_type": "execute_result"
    }
   ],
   "source": [
    "df.head()"
   ]
  },
  {
   "cell_type": "code",
   "execution_count": 24,
   "metadata": {},
   "outputs": [
    {
     "data": {
      "text/plain": [
       "0.22"
      ]
     },
     "execution_count": 24,
     "metadata": {},
     "output_type": "execute_result"
    }
   ],
   "source": [
    "df['Natural Gas Price'].min()"
   ]
  },
  {
   "cell_type": "code",
   "execution_count": 25,
   "metadata": {},
   "outputs": [],
   "source": [
    "df.to_csv('TREE_MAP.csv',index=False)"
   ]
  },
  {
   "cell_type": "code",
   "execution_count": null,
   "metadata": {},
   "outputs": [],
   "source": []
  },
  {
   "cell_type": "code",
   "execution_count": null,
   "metadata": {},
   "outputs": [],
   "source": []
  },
  {
   "cell_type": "code",
   "execution_count": null,
   "metadata": {},
   "outputs": [],
   "source": []
  },
  {
   "cell_type": "code",
   "execution_count": null,
   "metadata": {},
   "outputs": [],
   "source": []
  }
 ],
 "metadata": {
  "kernelspec": {
   "display_name": "Python 3",
   "language": "python",
   "name": "python3"
  },
  "language_info": {
   "codemirror_mode": {
    "name": "ipython",
    "version": 3
   },
   "file_extension": ".py",
   "mimetype": "text/x-python",
   "name": "python",
   "nbconvert_exporter": "python",
   "pygments_lexer": "ipython3",
   "version": "3.6.7"
  }
 },
 "nbformat": 4,
 "nbformat_minor": 2
}
